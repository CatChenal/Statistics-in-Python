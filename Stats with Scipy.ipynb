{
 "cells": [
  {
   "cell_type": "code",
   "execution_count": 2,
   "metadata": {},
   "outputs": [
    {
     "name": "stdout",
     "output_type": "stream",
     "text": [
      "Python ver: 3.6.7 (default, Feb 28 2019, 07:28:18) [MSC v.1900 64 bit (AMD64)]\n",
      "Python env: dsml\n",
      "Currrent dir: C:\\Users\\catch\\Documents\\GitHub\\Statistics-in-Python\n",
      "\n"
     ]
    },
    {
     "data": {
      "text/markdown": [
       "First code cell from custom template `dsml.ipynb`. \n",
       "_See Tim Paine's [jupyter_lab templates extention](https://github.com/timkpaine/jupyterlab_templates)._\n"
      ],
      "text/plain": [
       "<IPython.core.display.Markdown object>"
      ]
     },
     "execution_count": 2,
     "metadata": {},
     "output_type": "execute_result"
    }
   ],
   "source": [
    "import sys\n",
    "from pathlib import Path, PurePath as PPath\n",
    "\n",
    "print('Python ver: {}\\nPython env: {}'.format(sys.version, Path(sys.prefix).name))\n",
    "print('Currrent dir: {}\\n'.format(Path.cwd()))\n",
    "\n",
    "def add_to_sys_path(this_path, up=False):\n",
    "    \"\"\"\n",
    "    Prepend this_path to sys.path.\n",
    "    If up=True, path refers to parent folder (1 level up).\n",
    "    \"\"\"\n",
    "    if up:\n",
    "        # NB: Path does not have a str method.\n",
    "        newp = str(PPath(this_path).parent)\n",
    "    else:\n",
    "        newp = str(PPath(this_path)) \n",
    "    \n",
    "    if newp not in sys.path:\n",
    "        sys.path.insert(1, newp)\n",
    "        print('Path added to sys.path: {}'.format(newp))\n",
    "\n",
    "# if notebook inside another folder, eg ./notebooks:\n",
    "nb_folder = 'notebooks'\n",
    "add_to_sys_path(Path.cwd(), Path.cwd().name.startswith(nb_folder))\n",
    "\n",
    "\n",
    "def get_project_dirs(which=['data', 'images'], nb_folder='notebooks'):\n",
    "    dir_lst = []\n",
    "    if Path.cwd().name.startswith(nb_folder):\n",
    "        dir_fn = Path.cwd().parent.joinpath\n",
    "    else:\n",
    "        dir_fn = Path.cwd().joinpath\n",
    "        \n",
    "    for d in which:\n",
    "        DIR = dir_fn(d)\n",
    "        if not DIR.exists():\n",
    "            Path.mkdir(DIR)\n",
    "        dir_lst.append(DIR)\n",
    "    return dir_lst\n",
    "\n",
    "DIR_DATA, DIR_IMG = get_project_dirs()\n",
    "    \n",
    "import numpy as np\n",
    "import scipy as sp\n",
    "from scipy import stats as sps\n",
    "import pandas as pd\n",
    "#pd.set_option(\"display.max_colwidth\", 200)\n",
    "\n",
    "import matplotlib as mpl\n",
    "from matplotlib import pyplot as plt\n",
    "plt.ion()\n",
    "plt.style.use('seaborn-muted')\n",
    "\n",
    "from pprint import pprint as pp\n",
    "\n",
    "# Filtered dir() for method discovery:\n",
    "def filter_dir(obj, start_with_str='_', exclude=True):\n",
    "    return [d for d in dir(obj) if not d.startswith(start_with_str) == exclude]\n",
    "\n",
    "def get_mdl_pkgs(alib):\n",
    "    import inspect\n",
    "    \"Inspect module hierarchy on two levels ony.\"\n",
    "    for name, mdl in inspect.getmembers(alib, inspect.ismodule):\n",
    "        print('\\n{:>13} : {}'.format(mdl.__name__, filter_dir(mdl)))\n",
    "        for mdl_name, mdl_sub in inspect.getmembers(mdl, inspect.ismodule):\n",
    "            if mdl_sub.__doc__:\n",
    "                print('\\n{:>20} : {}'.format(mdl_name, mdl_sub.__doc__.strip()))\n",
    "                \n",
    "\n",
    "from IPython.core.interactiveshell import InteractiveShell\n",
    "InteractiveShell.ast_node_interactivity = \"all\"\n",
    "\n",
    "from IPython.display import HTML, Markdown #, IFrame\n",
    "# for presentations:\n",
    "#display(HTML(\"<style>.container { width:100% !important; }</style>\"))\n",
    "\n",
    "Markdown( \"\"\"First code cell from custom template `dsml.ipynb`. \n",
    "_See Tim Paine's [jupyter_lab templates extention](https://github.com/timkpaine/jupyterlab_templates)._\n",
    "\"\"\")\n",
    "\n",
    "def new_section(title='New section'):\n",
    "    style = \"text-align:center;background:#c2d3ef;padding:16px;color:#ffffff;font-size:2em;width:98%\"\n",
    "    return HTML('<div style=\"{}\">{}</div>'.format(style, title))\n",
    "\n",
    "\n",
    "def add_div(div_class, div_start, div_text, output_string=True):\n",
    "    from IPython import get_ipython\n",
    "    from IPython.display import HTML, Markdown\n",
    "    \"\"\"\n",
    "    Behaviour with default `output_string=True`:\n",
    "    The cell is overwritten with the output string, but the cell mode is still in 'code' not 'markdown':\n",
    "    ```\n",
    "    [x]\n",
    "    add_div('alert-warning', 'Tip: ', 'some tip here', output_string=True)\n",
    "    [x]\n",
    "    <div class=\"alert alert-warning\"><b>Tip: </b>some tip here</div>\n",
    "    ```\n",
    "    The only thing to do is change the cell mode to Markdown.\n",
    "    If `output_string=False`, the HTML output is displayed in an output cell.\n",
    "    \"\"\"\n",
    "    accepted = ['alert-info', 'alert-warning', 'alert-danger']\n",
    "    if div_class not in accepted:\n",
    "        return HTML(f\"\"\"<div class=\"alert\"><b>Wrong class:</b> `div_start` is one of {accepted}.\n",
    "                    </div>\"\"\")\n",
    "    div = f\"\"\"<div class=\"alert {div_class}\"><b>{div_start}</b>{div_text}</div>\"\"\"\n",
    "    if output_string:\n",
    "        return get_ipython().set_next_input(div, 'markdown')\n",
    "    else:\n",
    "        return Markdown(div) #HTML(div)\n",
    "\n",
    "# autoreload extension\n",
    "from IPython import get_ipython\n",
    "ipython = get_ipython()\n",
    "\n",
    "if 'autoreload' not in ipython.extension_manager.loaded:\n",
    "    %load_ext autoreload\n",
    "\n",
    "%autoreload 2"
   ]
  },
  {
   "cell_type": "code",
   "execution_count": 3,
   "metadata": {},
   "outputs": [],
   "source": [
    "# some nice colors from http://colorbrewer2.org/\n",
    "COLOR1 = '#7fc97f'\n",
    "COLOR2 = '#beaed4'\n",
    "COLOR3 = '#fdc086'\n",
    "COLOR4 = '#ffff99'\n",
    "COLOR5 = '#386cb0'"
   ]
  },
  {
   "cell_type": "markdown",
   "metadata": {},
   "source": [
    "---\n",
    "---\n",
    "# Computational Statistics with Scipy\n",
    "\n",
    "See Scipy 2015 tutorial\n",
    "https://github.com/AllenDowney/CompStats\n",
    "---"
   ]
  },
  {
   "cell_type": "markdown",
   "metadata": {},
   "source": [
    "# Statistical inference\n",
    "\n",
    "## Quantifiers in order of importance:\n",
    "\n",
    " 1. Effect size: usually a single number, ideally comparable acros stidues\n",
    "\n",
    " 2. Confidence interval/SE: quantifies the precision of the estimate\n",
    "\n",
    " 3. p-value: indicates whether the apparent effect might be due to chance"
   ]
  },
  {
   "cell_type": "markdown",
   "metadata": {},
   "source": [
    "# Part I"
   ]
  },
  {
   "cell_type": "markdown",
   "metadata": {},
   "source": [
    "#### Helper function to obtain the domain and range of a (scipy.stats [continuous | discrete] distribution) random variable (rv) using its pdf."
   ]
  },
  {
   "cell_type": "code",
   "execution_count": 4,
   "metadata": {},
   "outputs": [],
   "source": [
    "def eval_pdf(rv, num=4, points=100):\n",
    "    \"\"\"\n",
    "    Evaluate the normal (Gaussian) probability density function (PDF) within '`num` standard deviations of the mean.\n",
    "    Input: \n",
    "        rv: numpy rv object\n",
    "        num: the number of standard deviations away from the mean to plot\n",
    "        points: number of points to plot\n",
    "    Output: a pair of NumPy arrays, i.e: domain, rv.pdf(domain)\n",
    "    \"\"\"\n",
    "    mean, std = rv.mean(), rv.std()\n",
    "    xs = np.linspace(mean - num*std, mean + num*std, points)\n",
    "    ys = rv.pdf(xs)\n",
    "    return xs, ys"
   ]
  },
  {
   "cell_type": "markdown",
   "metadata": {},
   "source": [
    "## Use `scipy.stats.norm` to produce normal distributions given a mean and standard deviation.\n",
    "\n",
    "**Note**: other names for mean and standard deviation:  \n",
    "\n",
    "| Mean | Standard deviation |  \n",
    "|----|----|  \n",
    "| mean | std |\n",
    "| $\\mu$ | $\\sigma$ |   \n",
    "| `loc` | `scale` |  \n"
   ]
  },
  {
   "cell_type": "markdown",
   "metadata": {},
   "source": [
    "## Given (sample) stats:"
   ]
  },
  {
   "cell_type": "code",
   "execution_count": 5,
   "metadata": {},
   "outputs": [],
   "source": [
    "mu1, sig1 = 178, 7.7\n",
    "male_height = sps.norm(mu1, sig1)\n",
    "\n",
    "mu2, sig2 = 163, 7.3\n",
    "female_height = sps.norm(mu2, sig2)"
   ]
  },
  {
   "cell_type": "markdown",
   "metadata": {},
   "source": [
    "## 'Recover' the true population using the pdf"
   ]
  },
  {
   "cell_type": "code",
   "execution_count": 6,
   "metadata": {},
   "outputs": [
    {
     "data": {
      "image/png": "[encoded data removed]",
      "text/plain": [
       "<Figure size 432x288 with 1 Axes>"
      ]
     },
     "metadata": {
      "needs_background": "light"
     },
     "output_type": "display_data"
    }
   ],
   "source": [
    "xs1, ys1 = eval_pdf(male_height)\n",
    "plt.plot(xs1, ys1, label='male', linewidth=4, color=COLOR2)\n",
    "\n",
    "xs2, ys2 = eval_pdf(female_height)\n",
    "plt.plot(xs2, ys2, label='female', linewidth=4, color=COLOR3)\n",
    "\n",
    "plt.xlabel('height (cm)')\n",
    "plt.legend()\n",
    "plt.show();"
   ]
  },
  {
   "cell_type": "markdown",
   "metadata": {},
   "source": [
    "# Sample the population using the `.rvs()` method:"
   ]
  },
  {
   "cell_type": "code",
   "execution_count": 7,
   "metadata": {},
   "outputs": [],
   "source": [
    "N = 1000\n",
    "\n",
    "male_sample = male_height.rvs(N)\n",
    "\n",
    "female_sample = female_height.rvs(N)"
   ]
  },
  {
   "cell_type": "markdown",
   "metadata": {},
   "source": [
    "## Stats from sampling the population:  \n",
    "The sample mean is close to the population mean, but not exact, as expected."
   ]
  },
  {
   "cell_type": "code",
   "execution_count": 8,
   "metadata": {},
   "outputs": [
    {
     "data": {
      "text/plain": [
       "(178, 177.98701656715224, 7.723952507001857)"
      ]
     },
     "execution_count": 8,
     "metadata": {},
     "output_type": "execute_result"
    },
    {
     "data": {
      "text/plain": [
       "(163, 163.3122057227971, 7.364243464560319)"
      ]
     },
     "execution_count": 8,
     "metadata": {},
     "output_type": "execute_result"
    }
   ],
   "source": [
    "mean1, std1 = male_sample.mean(), male_sample.std()\n",
    "mu1, mean1, std1\n",
    "\n",
    "mean2, std2 = female_sample.mean(), female_sample.std()\n",
    "mu2, mean2, std2"
   ]
  },
  {
   "cell_type": "markdown",
   "metadata": {},
   "source": [
    "# Percentage differences\n",
    " \n",
    "## Compared to what? \n",
    "\n",
    "#### The answer to that question is the name of the series which is subtracted from another to obtain a difference AND which is used to normalize this difference, hence this series has to be the same. Even Allen Downey got this wrong...\n",
    "#### Another notable fact: a percentage differece is a _signed_ quantity!  \n",
    "\n",
    "In general a pct difference formula explicitely tells you which quantity is the reference from the difference formula (but only if you can see the formula). \n",
    "\n",
    "In the `pct_means_diff1` formula below, the reference is the mean of female_sample because that is the quantity subtracted from the other (male_sample) mean AND it is used to normalize the diff viz the female_sample data.  Therefore, it is a consistent formula:\n",
    "```\n",
    "# compared to the female variable:\n",
    "pct_means_diff1 = (male_sample.mean() - female_sample.mean()) / female_sample.mean()\n",
    "\n",
    "# compared to the male variable:\n",
    "pct_means_diff2 = (female_sample.mean() - male_sample.mean()) / male_sample.mean()\n",
    "```\n",
    "Here are a few other examples:\n",
    "```\n",
    "# %change in stock market values (compared to previous day):\n",
    "(closing_prices_today - closing_prices_yesterday) / closing_prices_yesterday\n",
    "\n",
    "# guess what this one is:\n",
    "(Jetter - DiMaggio) / DiMaggio\n",
    "```\n",
    "## The *correct*  pct difference formula, will yield the *correct* narrative, e.g.:\n",
    "\n",
    "```\n",
    "On average, the male height (cm) is 9.47% higher than that of the female.\n",
    "\n",
    "# see code cell below\n",
    "\n",
    "```"
   ]
  },
  {
   "cell_type": "code",
   "execution_count": 12,
   "metadata": {},
   "outputs": [],
   "source": [
    "def mean_pct_change_story(series, series_names, measure, units):\n",
    "    \"\"\"\n",
    "    Calculate the % difference between the means of series[0] and series[1]\n",
    "    using the latter as reference and printout a meaningful narrative.\n",
    "    Input:\n",
    "      series (list[np arrays]): series[1] is the reference\n",
    "      series_names (list): [series1_name, series2_name]\n",
    "      measure (string): what is measured, e.g. height\n",
    "      units (string): series measurement units (common to both)\n",
    "    Output:\n",
    "      (string): Formatted narrative\n",
    "    TODO:\n",
    "      Complete input validation\n",
    "    \"\"\"\n",
    "    if len(series) != 2:\n",
    "        return 'Expecting a list of 2 np arrays.'\n",
    "    if len(series_names) != 2:\n",
    "        return 'Provide a name for each series in this order: [series1_name, series2_name].'\n",
    "    \n",
    "    mu1, mu2 = series[0].mean(), series[1].mean()\n",
    "    pct_diff = (mu1 - mu2) / mu2\n",
    "    comparator = 'higher' if pct_diff > 0 else 'lower'\n",
    "\n",
    "    s = 'On average, the {} {} ({}) is {:.2%} {} than that of the {}. (Value: {:.2f}.)'\n",
    "    print(s.format(series_names[0], measure, units, abs(pct_diff), comparator, series_names[1], pct_diff))\n"
   ]
  },
  {
   "cell_type": "code",
   "execution_count": 13,
   "metadata": {},
   "outputs": [
    {
     "name": "stdout",
     "output_type": "stream",
     "text": [
      "On average, the female height (cm) is 8.24% lower than that of the male. (Value: -0.08.)\n",
      "On average, the male height (cm) is 8.99% higher than that of the female. (Value: 0.09.)\n"
     ]
    }
   ],
   "source": [
    "units = 'cm'\n",
    "what = 'height'\n",
    "\n",
    "which1 = ['female', 'male']\n",
    "case1_series = [female_sample, male_sample]\n",
    "\n",
    "mean_pct_change_story(case1_series, which1, what, units)\n",
    "\n",
    "which2 = ['male', 'female']\n",
    "case2_series = [male_sample, female_sample]\n",
    "\n",
    "mean_pct_change_story(case2_series, which2, what, units)"
   ]
  },
  {
   "cell_type": "markdown",
   "metadata": {},
   "source": [
    "## Part II\n",
    "\n",
    "An alternative way to express the difference between distributions is to see how much they **overlap**.\n",
    "\n",
    "### The \"overlap\" is the area under the curves that ends up on the wrong side of a threshold.  \n",
    "\n",
    "There are different way to compute a threshold:"
   ]
  },
  {
   "cell_type": "markdown",
   "metadata": {},
   "source": [
    "* Simple threshold:"
   ]
  },
  {
   "cell_type": "code",
   "execution_count": 9,
   "metadata": {},
   "outputs": [
    {
     "data": {
      "text/plain": [
       "170.59325465118894"
      ]
     },
     "execution_count": 9,
     "metadata": {},
     "output_type": "execute_result"
    }
   ],
   "source": [
    "# Simple:\n",
    "simple_thresh = (mean1 + mean2) / 2\n",
    "simple_thresh"
   ]
  },
  {
   "cell_type": "markdown",
   "metadata": {},
   "source": [
    "* pdf crossing point threshold:"
   ]
  },
  {
   "cell_type": "code",
   "execution_count": 10,
   "metadata": {},
   "outputs": [
    {
     "data": {
      "text/plain": [
       "170.30008218110117"
      ]
     },
     "execution_count": 10,
     "metadata": {},
     "output_type": "execute_result"
    }
   ],
   "source": [
    "# pdf_cross:\n",
    "pdf_thresh = (std1 * mean2 + std2 * mean1) / (std1 + std2)\n",
    "pdf_thresh"
   ]
  },
  {
   "cell_type": "code",
   "execution_count": 11,
   "metadata": {},
   "outputs": [
    {
     "name": "stdout",
     "output_type": "stream",
     "text": [
      "Simple threshold:\n"
     ]
    },
    {
     "data": {
      "text/plain": [
       "182"
      ]
     },
     "execution_count": 11,
     "metadata": {},
     "output_type": "execute_result"
    },
    {
     "data": {
      "text/plain": [
       "159"
      ]
     },
     "execution_count": 11,
     "metadata": {},
     "output_type": "execute_result"
    },
    {
     "name": "stdout",
     "output_type": "stream",
     "text": [
      "Pdf cross threshold:\n"
     ]
    },
    {
     "data": {
      "text/plain": [
       "174"
      ]
     },
     "execution_count": 11,
     "metadata": {},
     "output_type": "execute_result"
    },
    {
     "data": {
      "text/plain": [
       "165"
      ]
     },
     "execution_count": 11,
     "metadata": {},
     "output_type": "execute_result"
    }
   ],
   "source": [
    "# How many in each group are below/above the threshold:\n",
    "print('Simple threshold:')\n",
    "male_below_simple_thresh = sum(male_sample < simple_thresh)\n",
    "male_below_simple_thresh\n",
    "\n",
    "female_above_simple_thresh = sum(female_sample > simple_thresh)\n",
    "female_above_simple_thresh\n",
    "\n",
    "print('Pdf cross threshold:')\n",
    "male_below_pdf_thresh = sum(male_sample < pdf_thresh)\n",
    "male_below_pdf_thresh\n",
    "\n",
    "female_above_pdf_thresh = sum(female_sample > pdf_thresh)\n",
    "female_above_pdf_thresh"
   ]
  },
  {
   "cell_type": "markdown",
   "metadata": {},
   "source": [
    "## Overlap:"
   ]
  },
  {
   "cell_type": "code",
   "execution_count": 12,
   "metadata": {},
   "outputs": [
    {
     "data": {
      "text/plain": [
       "0.174"
      ]
     },
     "execution_count": 12,
     "metadata": {},
     "output_type": "execute_result"
    },
    {
     "data": {
      "text/plain": [
       "0.165"
      ]
     },
     "execution_count": 12,
     "metadata": {},
     "output_type": "execute_result"
    }
   ],
   "source": [
    "male_overlap = male_below_pdf_thresh / N\n",
    "male_overlap\n",
    "\n",
    "female_overlap = female_above_pdf_thresh /N\n",
    "female_overlap"
   ]
  },
  {
   "cell_type": "markdown",
   "metadata": {},
   "source": [
    "## Misclassification rate:  \n",
    "The fraction of people who would be misclassified if you tried to use height to guess sex, is the average of the male and female overlap rates:"
   ]
  },
  {
   "cell_type": "code",
   "execution_count": 13,
   "metadata": {},
   "outputs": [
    {
     "data": {
      "text/plain": [
       "0.16949999999999998"
      ]
     },
     "execution_count": 13,
     "metadata": {},
     "output_type": "execute_result"
    }
   ],
   "source": [
    "misclassification_rate = (male_overlap + female_overlap) / 2\n",
    "misclassification_rate"
   ]
  },
  {
   "cell_type": "markdown",
   "metadata": {},
   "source": [
    "## Probability of superiority (for a statistics):"
   ]
  },
  {
   "cell_type": "code",
   "execution_count": 14,
   "metadata": {},
   "outputs": [
    {
     "name": "stdout",
     "output_type": "stream",
     "text": [
      "In 92.20% of randomly chosen pairs (1 man, 1 woman), the man will be taller.\n"
     ]
    }
   ],
   "source": [
    "prob_male_taller = (male_sample > female_sample).mean()\n",
    "\n",
    "print(f'In {prob_male_taller:.2%} of randomly chosen pairs (1 man, 1 woman), the man will be taller.')"
   ]
  },
  {
   "cell_type": "markdown",
   "metadata": {},
   "source": [
    "### Overlap, misclassification rate and \"probability of superiority\" have two good properties:\n",
    "\n",
    "* As probabilities, they don't depend on units of measure, so they are comparable between studies.\n",
    "\n",
    "* They are expressed in operational terms, so a reader has a sense of what practical effect the difference makes.\n",
    "\n",
    "### There is one other common way to express the difference between distributions: Cohen's effect size.\n",
    "\n",
    "* Cohen's $d$ is the difference in means, standardized by dividing by the standard deviation. Mathematically:  \n",
    "\n",
    "\n",
    "$ d = \\frac{\\bar{x}_1 - \\bar{x}_2} s $ where $s$ is the pooled standard deviation:  $s = \\sqrt{\\frac{n_1 s^2_1 + n_2 s^2_2}{n_1+n_2}}$"
   ]
  },
  {
   "cell_type": "markdown",
   "metadata": {},
   "source": [
    "### Implementation of Cohen's d value:\n",
    "\n",
    "I dug a bit deeper into the effect size calculations and visited these resources:  \n",
    "* https://www.statisticshowto.datasciencecentral.com/pooled-standard-deviation/\n",
    "> You can only use the above formulas if the standard deviations for the two groups are the same \n",
    "(this is because it would otherwise be violating the assumption of homogeneity of variances. \n",
    " If the standard deviations are different, run Hedge’s g or Glass’s Delta instead.\n",
    "* https://stackoverflow.com/questions/21532471/how-to-calculate-cohens-d-in-python\n",
    "* https://en.wikipedia.org/wiki/Effect_size#Cohen's_d \n",
    "* https://en.wikipedia.org/wiki/Pooled_variance:\n",
    " > Definition: The pooled variance is an estimate of the fixed common variance {\\displaystyle \\sigma ^{2}}\\sigma ^{2} underlying various populations that have different means.\n",
    "* https://github.com/statsmodels/statsmodels/issues/5896 \n",
    "\n",
    "Thanks to the last one (Statsmodels repo), I found out that a statistical analysis package already has an effect size function implemented for multiple cases.  \n",
    "This package is mysteriously call [Pengouin](https://pingouin-stats.org/index.html), but does wonder in whetting one's appetite:  \n",
    ">Pingouin is designed for users who want simple yet exhaustive stats functions.\n",
    "For example, the ttest_ind function of SciPy returns only the T-value and the p-value. By contrast, the ttest function of Pingouin returns the T-value,  \n",
    "the p-value, the degrees of freedom, the effect size (Cohen’s d), the 95% confidence intervals of the difference in means, the statistical power and the Bayes Factor (BF10) of the test.\n",
    "```\n",
    "> conda install -c conda-forge pingouin\n",
    "```"
   ]
  },
  {
   "cell_type": "code",
   "execution_count": 15,
   "metadata": {},
   "outputs": [],
   "source": [
    "def CohenEffectSize(group1, group2):\n",
    "    \"\"\"Compute Cohen's d.\n",
    "\n",
    "    group1: pd Series or NumPy array\n",
    "    group2: pd Series or NumPy array\n",
    "\n",
    "    returns: float\n",
    "    \"\"\"\n",
    "    n1, n2 = len(group1), len(group2)\n",
    "    \n",
    "    diff = group1.mean() - group2.mean()\n",
    "    var1, var2 = group1.var(), group2.var()\n",
    "\n",
    "    pooled_var = (n1 * var1 + n2 * var2) / (n1 + n2)\n",
    "    d = diff / np.sqrt(pooled_var)\n",
    "    return d\n",
    "\n",
    "\n",
    "def overlap_superiority(control, treatment, n=1000, use_pdf_threshold=True):\n",
    "    \"\"\"Estimates overlap and superiority based on a sample.\n",
    "    \n",
    "    control: scipy.stats rv object\n",
    "    treatment: scipy.stats rv object\n",
    "    n: sample size\n",
    "    use_pdf_threshold: bool, \n",
    "       if True: pdf_cross threshold is used else, simple threshold.\n",
    "       Implemented to plot the effect of the thresholding method.\n",
    "    \"\"\"\n",
    "    control_sample = control.rvs(n)\n",
    "    treatment_sample = treatment.rvs(n)\n",
    "    \n",
    "    mu1, mu2 = control.mean(), treatment.mean()\n",
    "    \n",
    "    if use_pdf_threshold:\n",
    "        std1, std2 = control.std(), treatment.std()\n",
    "        # pdf_cross threshold:\n",
    "        thresh = (std1 * mu2 + std2 * mu1) / (std1 + std2)\n",
    "    else:\n",
    "        # simple threshold:\n",
    "        thresh = (mu1 + mu2) / 2\n",
    "    \n",
    "    control_above = sum(control_sample > thresh)\n",
    "    treatment_below = sum(treatment_sample < thresh)\n",
    "    \n",
    "    overlap = (control_above + treatment_below) / n\n",
    "    \n",
    "    superiority = (treatment_sample > control_sample).mean()\n",
    "    return overlap, superiority\n",
    "\n",
    "\n",
    "def plot_pdfs(cohen_d=2, pdf_threshold=True):\n",
    "    \"\"\"Plot PDFs for distributions that differ by some number of stds.\n",
    "    \n",
    "    cohen_d: number of standard deviations between the means\n",
    "    pdf_threshold: bool, use pdf_cross threshold (to pass to overlap_superiority().)\n",
    "    \"\"\"\n",
    "    control = sps.norm(0, 1)\n",
    "    treatment = sps.norm(cohen_d, 1)\n",
    "    \n",
    "    xs, ys = eval_pdf(control)\n",
    "    plt.fill_between(xs, ys, label='control', color=COLOR3, alpha=0.7)\n",
    "\n",
    "    xs, ys = eval_pdf(treatment)\n",
    "    plt.fill_between(xs, ys, label='treatment', color=COLOR2, alpha=0.7)\n",
    "    \n",
    "    o, s = overlap_superiority(control, treatment, use_pdf_threshold=pdf_threshold)\n",
    "    plt.text(0, 0.05, 'overlap ' + str(o))\n",
    "    plt.text(0, 0.15, 'superiority ' + str(s))\n",
    "    \n",
    "    plt.text(-4, 0.35, f\"Cohen's d: {cohen_d:.2f}\")\n",
    "    if pdf_threshold:\n",
    "        tresh = 'Pdf cross'\n",
    "    else:\n",
    "        tresh = 'Simple'\n",
    "    plt.text(-4, 0.39, f\"Threshold: {tresh}\")\n",
    "    \n",
    "    plt.legend()\n",
    "    plt.show();"
   ]
  },
  {
   "cell_type": "code",
   "execution_count": 16,
   "metadata": {},
   "outputs": [
    {
     "data": {
      "image/png": "[encoded data removed]",
      "text/plain": [
       "<Figure size 432x288 with 1 Axes>"
      ]
     },
     "metadata": {
      "needs_background": "light"
     },
     "output_type": "display_data"
    },
    {
     "data": {
      "image/png": "[encoded data removed]",
      "text/plain": [
       "<Figure size 432x288 with 1 Axes>"
      ]
     },
     "metadata": {
      "needs_background": "light"
     },
     "output_type": "display_data"
    }
   ],
   "source": [
    "cohen_d = CohenEffectSize(male_sample, female_sample)\n",
    "\n",
    "plot_pdfs(cohen_d, pdf_threshold=True)\n",
    "plot_pdfs(cohen_d, pdf_threshold=False)"
   ]
  },
  {
   "cell_type": "markdown",
   "metadata": {},
   "source": [
    "## In summary, the best way to report effect size depends on the audience and your goals.   \n",
    "### There is often a tradeoff between summary statistics that have good technical properties and statistics that are meaningful to a general audience."
   ]
  },
  {
   "cell_type": "code",
   "execution_count": null,
   "metadata": {},
   "outputs": [],
   "source": []
  }
 ],
 "metadata": {
  "kernelspec": {
   "display_name": "Python 3",
   "language": "python",
   "name": "python3"
  },
  "language_info": {
   "codemirror_mode": {
    "name": "ipython",
    "version": 3
   },
   "file_extension": ".py",
   "mimetype": "text/x-python",
   "name": "python",
   "nbconvert_exporter": "python",
   "pygments_lexer": "ipython3",
   "version": "3.6.7"
  }
 },
 "nbformat": 4,
 "nbformat_minor": 4
}
